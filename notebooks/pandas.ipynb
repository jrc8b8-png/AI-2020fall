{
  "nbformat": 4,
  "nbformat_minor": 0,
  "metadata": {
    "colab": {
      "name": "panda.ipynb",
      "provenance": [],
      "collapsed_sections": [],
      "include_colab_link": true
    },
    "kernelspec": {
      "name": "python3",
      "display_name": "Python 3"
    }
  },
  "cells": [
    {
      "cell_type": "markdown",
      "metadata": {
        "id": "FSsz8On52n4A",
        "colab_type": "text"
      },
      "source": [
        "#Basic data analysis using Pandas"
      ]
    },
    {
      "cell_type": "code",
      "metadata": {
        "id": "csWT8TQfphiz",
        "colab_type": "code",
        "colab": {}
      },
      "source": [
        "# Please download the 'pima-diabetes.csv' file from the ./data/ directory to your computer first\n",
        "from google.colab import files\n",
        "# This will ask you to choose a file from your computer\n",
        "files.upload()"
      ],
      "execution_count": 0,
      "outputs": []
    },
    {
      "cell_type": "code",
      "metadata": {
        "id": "hJQoQIjBsvEc",
        "colab_type": "code",
        "colab": {}
      },
      "source": [
        "import pandas as pd"
      ],
      "execution_count": 0,
      "outputs": []
    },
    {
      "cell_type": "code",
      "metadata": {
        "id": "LPeS83pXP7zX",
        "colab_type": "code",
        "colab": {}
      },
      "source": [
        "data = pd.read_csv('pima-diabetes.csv', delimiter=',')"
      ],
      "execution_count": 0,
      "outputs": []
    },
    {
      "cell_type": "code",
      "metadata": {
        "id": "jiQVHg__S91Y",
        "colab_type": "code",
        "colab": {}
      },
      "source": [
        "print(data.shape)"
      ],
      "execution_count": 0,
      "outputs": []
    },
    {
      "cell_type": "code",
      "metadata": {
        "id": "DL_g_Fz6TBhy",
        "colab_type": "code",
        "colab": {}
      },
      "source": [
        "print(data.columns)"
      ],
      "execution_count": 0,
      "outputs": []
    },
    {
      "cell_type": "code",
      "metadata": {
        "id": "YJvd3V-kTIIp",
        "colab_type": "code",
        "colab": {}
      },
      "source": [
        "print(data.info())"
      ],
      "execution_count": 0,
      "outputs": []
    },
    {
      "cell_type": "code",
      "metadata": {
        "id": "-MOIwtXuQh5S",
        "colab_type": "code",
        "colab": {}
      },
      "source": [
        "data.head()"
      ],
      "execution_count": 0,
      "outputs": []
    },
    {
      "cell_type": "code",
      "metadata": {
        "id": "JMsUwpI_QmaA",
        "colab_type": "code",
        "colab": {}
      },
      "source": [
        "data.isnull().values.any()\n",
        "# If there are blank cells\n",
        "data = data.dropna()"
      ],
      "execution_count": 0,
      "outputs": []
    },
    {
      "cell_type": "code",
      "metadata": {
        "id": "MC4geqGZP6IT",
        "colab_type": "code",
        "colab": {}
      },
      "source": [
        "data.describe()"
      ],
      "execution_count": 0,
      "outputs": []
    },
    {
      "cell_type": "code",
      "metadata": {
        "id": "GILoyqqqQ4St",
        "colab_type": "code",
        "colab": {}
      },
      "source": [
        "data.describe().T"
      ],
      "execution_count": 0,
      "outputs": []
    },
    {
      "cell_type": "code",
      "metadata": {
        "id": "MOZm4o2qTR5G",
        "colab_type": "code",
        "colab": {}
      },
      "source": [
        "data['Age'].value_counts()"
      ],
      "execution_count": 0,
      "outputs": []
    },
    {
      "cell_type": "code",
      "metadata": {
        "id": "uYGcHmgpTaBn",
        "colab_type": "code",
        "colab": {}
      },
      "source": [
        "data.sort_values(by='Age', ascending=False).head()"
      ],
      "execution_count": 0,
      "outputs": []
    },
    {
      "cell_type": "code",
      "metadata": {
        "id": "APmHNBWPTl1v",
        "colab_type": "code",
        "colab": {}
      },
      "source": [
        "data['Age'].mean()"
      ],
      "execution_count": 0,
      "outputs": []
    },
    {
      "cell_type": "code",
      "metadata": {
        "id": "AtokWiVGp3vA",
        "colab_type": "code",
        "colab": {}
      },
      "source": [
        "from sklearn.utils import shuffle\n",
        "data = shuffle(data)\n",
        "data.head()"
      ],
      "execution_count": 0,
      "outputs": []
    },
    {
      "cell_type": "code",
      "metadata": {
        "id": "Or92dxrJAo1q",
        "colab_type": "code",
        "colab": {}
      },
      "source": [
        "import matplotlib.pyplot as plt\n",
        "plt.rcParams[\"figure.figsize\"] = ((10,10))\n",
        "data.hist()\n",
        "plt.show()"
      ],
      "execution_count": 0,
      "outputs": []
    },
    {
      "cell_type": "code",
      "metadata": {
        "id": "REU7sm18BRA3",
        "colab_type": "code",
        "colab": {}
      },
      "source": [
        "plt.rcParams.update(plt.rcParamsDefault)\n",
        "plt.scatter(data['BloodPressure'], data['Age'])\n",
        "plt.xlabel('BloodPressure')\n",
        "plt.ylabel('Age')\n",
        "plt.show()"
      ],
      "execution_count": 0,
      "outputs": []
    },
    {
      "cell_type": "code",
      "metadata": {
        "id": "r-olZaZ0qjbP",
        "colab_type": "code",
        "colab": {}
      },
      "source": [
        "import seaborn as sns\n",
        "correlation = data.corr()\n",
        "sns.heatmap(correlation, xticklabels=correlation.columns, yticklabels=correlation.columns)"
      ],
      "execution_count": 0,
      "outputs": []
    }
  ]
}
